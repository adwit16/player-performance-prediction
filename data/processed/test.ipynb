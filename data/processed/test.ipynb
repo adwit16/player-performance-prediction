{
 "cells": [
  {
   "cell_type": "code",
   "execution_count": 1,
   "id": "c11697bc",
   "metadata": {},
   "outputs": [],
   "source": [
    "import pandas as pd\n",
    "import numpy as np"
   ]
  },
  {
   "cell_type": "code",
   "execution_count": 5,
   "id": "a61dd802",
   "metadata": {},
   "outputs": [],
   "source": [
    "data_path = './predicted_points_gw3.csv'\n",
    "input_path = './players.csv'"
   ]
  },
  {
   "cell_type": "code",
   "execution_count": 3,
   "id": "41bfc025",
   "metadata": {},
   "outputs": [],
   "source": [
    "df = pd.read_csv(data_path)"
   ]
  },
  {
   "cell_type": "code",
   "execution_count": 4,
   "id": "0abe9b9d",
   "metadata": {},
   "outputs": [
    {
     "data": {
      "text/plain": [
       "(804, 103)"
      ]
     },
     "execution_count": 4,
     "metadata": {},
     "output_type": "execute_result"
    }
   ],
   "source": [
    "df.shape"
   ]
  },
  {
   "cell_type": "code",
   "execution_count": 6,
   "id": "f384c915",
   "metadata": {},
   "outputs": [],
   "source": [
    "inputdata = pd.read_csv(input_path)"
   ]
  },
  {
   "cell_type": "code",
   "execution_count": 8,
   "id": "c8c5b26d",
   "metadata": {},
   "outputs": [
    {
     "data": {
      "text/plain": [
       "(804, 103)"
      ]
     },
     "execution_count": 8,
     "metadata": {},
     "output_type": "execute_result"
    }
   ],
   "source": [
    "inputdata.shape"
   ]
  },
  {
   "cell_type": "code",
   "execution_count": 12,
   "id": "f0e264a0",
   "metadata": {},
   "outputs": [
    {
     "data": {
      "text/plain": [
       "804"
      ]
     },
     "execution_count": 12,
     "metadata": {},
     "output_type": "execute_result"
    }
   ],
   "source": [
    "inputdata.id.nunique()"
   ]
  },
  {
   "cell_type": "code",
   "execution_count": 14,
   "id": "85091ced",
   "metadata": {},
   "outputs": [
    {
     "data": {
      "text/plain": [
       "804"
      ]
     },
     "execution_count": 14,
     "metadata": {},
     "output_type": "execute_result"
    }
   ],
   "source": [
    "df.id.nunique()"
   ]
  },
  {
   "cell_type": "code",
   "execution_count": 15,
   "id": "04e2b37f",
   "metadata": {},
   "outputs": [],
   "source": [
    "merged_df = pd.merge(df, inputdata, on='id', how='inner')"
   ]
  },
  {
   "cell_type": "code",
   "execution_count": 16,
   "id": "3fc83f70",
   "metadata": {},
   "outputs": [
    {
     "data": {
      "text/plain": [
       "(804, 205)"
      ]
     },
     "execution_count": 16,
     "metadata": {},
     "output_type": "execute_result"
    }
   ],
   "source": [
    "merged_df.shape"
   ]
  },
  {
   "cell_type": "code",
   "execution_count": 17,
   "id": "e8a25f31",
   "metadata": {},
   "outputs": [],
   "source": [
    "merged_df.to_csv('final_predicted_points_gw3.csv', index=False)"
   ]
  },
  {
   "cell_type": "code",
   "execution_count": null,
   "id": "84266be8",
   "metadata": {},
   "outputs": [],
   "source": []
  }
 ],
 "metadata": {
  "kernelspec": {
   "display_name": "venv",
   "language": "python",
   "name": "python3"
  },
  "language_info": {
   "codemirror_mode": {
    "name": "ipython",
    "version": 3
   },
   "file_extension": ".py",
   "mimetype": "text/x-python",
   "name": "python",
   "nbconvert_exporter": "python",
   "pygments_lexer": "ipython3",
   "version": "3.11.9"
  }
 },
 "nbformat": 4,
 "nbformat_minor": 5
}
